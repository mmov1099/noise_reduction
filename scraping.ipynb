{
 "cells": [
  {
   "cell_type": "code",
   "execution_count": 1,
   "metadata": {},
   "outputs": [],
   "source": [
    "import requests\n",
    "from bs4 import BeautifulSoup\n",
    "import os"
   ]
  },
  {
   "cell_type": "code",
   "execution_count": 2,
   "metadata": {},
   "outputs": [],
   "source": [
    "HOME_DIR = os.getcwd()"
   ]
  },
  {
   "cell_type": "code",
   "execution_count": 4,
   "metadata": {},
   "outputs": [
    {
     "data": {
      "text/plain": [
       "'/data/ergsc/ground/radar/sd/'"
      ]
     },
     "execution_count": 4,
     "metadata": {},
     "output_type": "execute_result"
    }
   ],
   "source": [
    "ROOT_URL = 'https://ergsc.isee.nagoya-u.ac.jp/data/ergsc/ground/radar/sd/fitacf_local/'\n",
    "root_requests= requests.get(ROOT_URL)\n",
    "root_soup = BeautifulSoup(root_requests.content, \"html.parser\")\n",
    "fitacf_dir = []\n",
    "for s in root_soup.find_all(\"a\"):\n",
    "    fitacf_dir.append(s.get('href'))\n",
    "fitacf_dir.pop(0)"
   ]
  },
  {
   "cell_type": "code",
   "execution_count": 5,
   "metadata": {},
   "outputs": [
    {
     "data": {
      "text/plain": [
       "['ade/',\n",
       " 'adw.a/',\n",
       " 'adw/',\n",
       " 'bks/',\n",
       " 'bpk/',\n",
       " 'cly/',\n",
       " 'cve/',\n",
       " 'cvw/',\n",
       " 'fhe/',\n",
       " 'fhw/',\n",
       " 'gbr/',\n",
       " 'han/',\n",
       " 'hkw/',\n",
       " 'hok/',\n",
       " 'inv/',\n",
       " 'kap/',\n",
       " 'kod/',\n",
       " 'pgr/',\n",
       " 'pyk/',\n",
       " 'rkn/',\n",
       " 'sas/',\n",
       " 'wal/']"
      ]
     },
     "execution_count": 5,
     "metadata": {},
     "output_type": "execute_result"
    }
   ],
   "source": [
    "fitacf_dir"
   ]
  },
  {
   "cell_type": "code",
   "execution_count": 6,
   "metadata": {},
   "outputs": [
    {
     "name": "stdout",
     "output_type": "stream",
     "text": [
      "/home/mmiyazaki/Documents_ubuntu/noise_cancel/data/fitacf_local/hok/2017/\n"
     ]
    }
   ],
   "source": [
    "for d in fitacf_dir:\n",
    "    if d == 'hok/':\n",
    "        temp_dir = ROOT_URL+d\n",
    "        tifacf_requests = requests.get(temp_dir)\n",
    "        tifacf_soup = BeautifulSoup(tifacf_requests.content, \"html.parser\")\n",
    "        temp_years = []\n",
    "        for s in tifacf_soup.find_all(\"a\"):\n",
    "            temp_years.append(s.get('href'))\n",
    "        temp_years.pop(0)\n",
    "\n",
    "        for y in temp_years:\n",
    "            if y == '2017/':\n",
    "                data_dir = temp_dir+y\n",
    "                os.chdir(HOME_DIR)\n",
    "                cur_dir = HOME_DIR+'/data/fitacf_local/'+d+y\n",
    "                # print(d,y)\n",
    "                print(cur_dir)\n",
    "                os.makedirs(cur_dir, exist_ok=True)\n",
    "                os.chdir(cur_dir)\n",
    "                file_requests= requests.get(data_dir)\n",
    "                file_soup = BeautifulSoup(file_requests.content, \"html.parser\")\n",
    "                for s in file_soup.find_all(\"a\")[1:]:\n",
    "                    filename = s.get('href')\n",
    "                    data_url = data_dir + filename\n",
    "\n",
    "                    urlData = requests.get(data_url).content\n",
    "\n",
    "                    try:\n",
    "                        with open(filename ,mode='xb') as f: # wb でバイト型を書き込める\n",
    "                            f.write(urlData)\n",
    "                    except:\n",
    "                        pass"
   ]
  }
 ],
 "metadata": {
  "kernelspec": {
   "display_name": "Python 3.8.10 ('noise_cancel_env': venv)",
   "language": "python",
   "name": "python3"
  },
  "language_info": {
   "codemirror_mode": {
    "name": "ipython",
    "version": 3
   },
   "file_extension": ".py",
   "mimetype": "text/x-python",
   "name": "python",
   "nbconvert_exporter": "python",
   "pygments_lexer": "ipython3",
   "version": "3.8.10"
  },
  "orig_nbformat": 4,
  "vscode": {
   "interpreter": {
    "hash": "0e9a320acb15b15acd638cd80c6b3e7380d30436137068ad8da0650530b1b543"
   }
  }
 },
 "nbformat": 4,
 "nbformat_minor": 2
}
