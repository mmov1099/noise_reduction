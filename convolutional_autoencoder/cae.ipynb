{
 "cells": [
  {
   "cell_type": "code",
   "execution_count": 1,
   "metadata": {},
   "outputs": [],
   "source": [
    "import torch\n",
    "import torch.nn as nn\n",
    "import torch.optim as optim\n",
    "import numpy as np\n",
    "import glob\n",
    "import os\n",
    "from torch.utils.data import Dataset, DataLoader, Subset\n",
    "import torchvision.transforms.functional as tvF\n",
    "import sys\n",
    "sys.path.append(\"../\")\n",
    "from scripts.cdf import cdf2vlos_and_utc\n",
    "import random\n",
    "import matplotlib.pyplot as plt\n",
    "# from tqdm import tqdm_notebook as tqdm\n",
    "from tqdm.notebook import tqdm\n",
    "import torch.nn.functional as F\n",
    "import seaborn as sns\n",
    "from ipywidgets import interact"
   ]
  },
  {
   "cell_type": "code",
   "execution_count": 2,
   "metadata": {},
   "outputs": [
    {
     "name": "stdout",
     "output_type": "stream",
     "text": [
      "train_size: 667\n",
      "valid_size: 83\n",
      "test_size: 84\n"
     ]
    }
   ],
   "source": [
    "# データの準備\n",
    "data_dir_list = [\n",
    "    \"/home/miyazaki/Documents_ubuntu/noise_reduction/data/fitacf/hok/2017\",\n",
    "    \"/home/miyazaki/Documents_ubuntu/noise_reduction/data/fitacf/hok/2018\",\n",
    "    \"/home/miyazaki/Documents_ubuntu/noise_reduction/data/fitacf/hok/2019\",\n",
    "    \"/home/miyazaki/Documents_ubuntu/noise_reduction/data/fitacf/hok/2020\",\n",
    "    \"/home/miyazaki/Documents_ubuntu/noise_reduction/data/fitacf/kod/2021\",\n",
    "    ]\n",
    "\n",
    "data_path_list = []\n",
    "for data_dir in data_dir_list:\n",
    "    data_path_list += glob.glob(data_dir+\"/*.cdf\")\n",
    "\n",
    "random.seed(0)\n",
    "random.shuffle(data_path_list)\n",
    "\n",
    "train_size = int(len(data_path_list)*0.8)\n",
    "valid_size = int(len(data_path_list)*0.1)\n",
    "test_size = len(data_path_list) - train_size - valid_size\n",
    "\n",
    "train_data_path_list = data_path_list[:train_size]\n",
    "valid_data_path_list = data_path_list[train_size:train_size+valid_size]\n",
    "test_data_path_list = data_path_list[train_size+valid_size:]\n",
    "\n",
    "print(f\"train_size: {len(train_data_path_list)}\\nvalid_size: {len(valid_data_path_list)}\\ntest_size: {len(test_data_path_list)}\")\n"
   ]
  },
  {
   "cell_type": "code",
   "execution_count": 3,
   "metadata": {},
   "outputs": [],
   "source": [
    "data, _ = cdf2vlos_and_utc(data_path_list[0])"
   ]
  },
  {
   "cell_type": "code",
   "execution_count": 4,
   "metadata": {},
   "outputs": [
    {
     "data": {
      "application/vnd.jupyter.widget-view+json": {
       "model_id": "1acfd45008ef4950969beb84d54c16fc",
       "version_major": 2,
       "version_minor": 0
      },
      "text/plain": [
       "  0%|          | 0/834 [00:00<?, ?it/s]"
      ]
     },
     "metadata": {},
     "output_type": "display_data"
    }
   ],
   "source": [
    "data_min = 0\n",
    "data_max = 0\n",
    "for data_path in tqdm(data_path_list):\n",
    "    data_, _ = cdf2vlos_and_utc(data_path)\n",
    "    data_min = min(data_min, data_.min())\n",
    "    data_max = max(data_max, data_[data_!=10000].max())"
   ]
  },
  {
   "attachments": {},
   "cell_type": "markdown",
   "metadata": {},
   "source": [
    "### creating dataset"
   ]
  },
  {
   "cell_type": "code",
   "execution_count": 5,
   "metadata": {},
   "outputs": [],
   "source": [
    "class MyDataset(Dataset):\n",
    "    def __init__(self, data_path_list, chunk_size, data_min=None, data_max=None):\n",
    "        super(MyDataset, self).__init__()\n",
    "        self.data_path_list = data_path_list\n",
    "        self.h_max, self.w_max = self._find_hmax_and_wmax()\n",
    "\n",
    "        self.chunk_size = chunk_size\n",
    "\n",
    "        self.data_min = data_min\n",
    "        self.data_max = data_max\n",
    "\n",
    "\n",
    "    def _find_hmax_and_wmax(self):\n",
    "        h_max = 0\n",
    "        w_max = 0\n",
    "\n",
    "        for data_path in self.data_path_list:\n",
    "            data, _ = cdf2vlos_and_utc(data_path)\n",
    "            h_max = max(h_max, data.shape[0])\n",
    "            w_max = max(w_max, data.shape[1])\n",
    "\n",
    "        return h_max, w_max\n",
    "\n",
    "\n",
    "    def _padding(self, data):\n",
    "        # h_max = self.h_max\n",
    "        # w_max = self.w_max\n",
    "        target_h = 110\n",
    "        target_w = self.chunk_size\n",
    "\n",
    "        height, width = data.shape[:2]\n",
    "\n",
    "        target_size = (target_h, target_w)\n",
    "\n",
    "        padding_height = (target_size[0] - height)/2\n",
    "        padding_width = (target_size[1] - width)/2\n",
    "        value = 1.0000000e+04\n",
    "\n",
    "        if padding_height.is_integer():\n",
    "            top = bottom = int(padding_height)\n",
    "        else:\n",
    "            top = int(padding_height)\n",
    "            bottom = top + 1\n",
    "        if padding_width.is_integer():\n",
    "            left = right = int(padding_width)\n",
    "        else:\n",
    "            left = int(padding_width)\n",
    "            right = left + 1\n",
    "\n",
    "        data = np.pad(data, [(top, bottom), (left, right)], 'constant', constant_values=(value, value))\n",
    "\n",
    "        return data\n",
    "\n",
    "\n",
    "    def _get_data(self, index):\n",
    "        if index == 0:\n",
    "            self.file_index = 0\n",
    "            self.finished = True\n",
    "\n",
    "        if self.finished:\n",
    "            self.chunk_index = 0\n",
    "            data_path = self.data_path_list[self.file_index]\n",
    "            self.data, _ = cdf2vlos_and_utc(data_path)\n",
    "            self.splited_data = np.split(self.data, self.chunk_size, axis=0)\n",
    "            self.splited_data = [self.data[:,i:i+self.chunk_size] for i in range(0, self.data.shape[1], self.chunk_size)]\n",
    "            \n",
    "        else:\n",
    "            self.chunk_index += 1\n",
    "\n",
    "        if self.chunk_index == len(self.splited_data)-1 or self.splited_data[self.chunk_index].shape[1] < self.chunk_size:\n",
    "            self.finished = True\n",
    "            self.file_index += 1\n",
    "\n",
    "            return self._padding(self.splited_data[self.chunk_index])\n",
    "        \n",
    "        else:\n",
    "            self.finished = False\n",
    "\n",
    "            return self.splited_data[self.chunk_index]\n",
    "\n",
    "\n",
    "    def _normalize(self, data):\n",
    "        data[data==10000] = np.nan\n",
    "        data = (data - self.data_min)/(self.data_max - self.data_min)\n",
    "        data[np.isnan(data)] = 0\n",
    "\n",
    "        return data\n",
    "\n",
    "\n",
    "    def __getitem__(self, index):\n",
    "        # data_path = self.data_path_list[index]\n",
    "        # data, _ = cdf2vlos_and_utc(data_path)\n",
    "        # data = self._padding(data)\n",
    "        data = self._get_data(index)\n",
    "        data = self._normalize(data)\n",
    "        # print(\"datashape\",data.shape)\n",
    "\n",
    "        data = tvF.to_tensor(data)\n",
    "        \n",
    "        return data\n",
    "    \n",
    "\n",
    "    def __len__(self):\n",
    "        length = 0\n",
    "        for data_path in self.data_path_list:\n",
    "            data, _ = cdf2vlos_and_utc(data_path)\n",
    "            length += data.shape[1]//self.chunk_size\n",
    "            if data.shape[1]%self.chunk_size != 0:\n",
    "                length += 1\n",
    "\n",
    "        return length"
   ]
  },
  {
   "cell_type": "code",
   "execution_count": 6,
   "metadata": {},
   "outputs": [],
   "source": [
    "class StandardScalerSubset(Subset):\n",
    "    def __init__(self, dataset, indices, mean=None, std=None, eps=10**-9):\n",
    "        super().__init__(dataset=dataset, indices=indices)\n",
    "        target_tensor = torch.stack([dataset[i] for i in indices])\n",
    "        target_tensor = target_tensor.to(torch.float32)\n",
    "\n",
    "        if mean is None:\n",
    "            self._mean = torch.mean(target_tensor, dim=(0, 2, 3))\n",
    "        else:\n",
    "            self._mean = mean\n",
    "        if std is None:\n",
    "            self._std = torch.std(target_tensor, dim=(0, 2, 3), unbiased=False)\n",
    "        else:\n",
    "            self._std = std\n",
    "        self._eps = eps\n",
    "        self.std.apply_(lambda x: max(x, self.eps)) # ゼロ割対策\n",
    "\n",
    "    def __getitem__(self, idx):\n",
    "        dataset = self.dataset[self.indices[idx]]\n",
    "        dataset = (dataset - self.mean) / self.std\n",
    "        return dataset\n",
    "\n",
    "    @property\n",
    "    def mean(self):\n",
    "        return self._mean\n",
    "\n",
    "    @property\n",
    "    def std(self):\n",
    "        return self._std\n",
    "\n",
    "    @property\n",
    "    def eps(self):\n",
    "        return self._eps"
   ]
  },
  {
   "attachments": {},
   "cell_type": "markdown",
   "metadata": {},
   "source": [
    "### バッチサイズ、チャンクサイズ"
   ]
  },
  {
   "cell_type": "code",
   "execution_count": 7,
   "metadata": {},
   "outputs": [
    {
     "name": "stdout",
     "output_type": "stream",
     "text": [
      "130231\n",
      "16028\n",
      "15690\n"
     ]
    }
   ],
   "source": [
    "def load_dataset(data_path_list, batch_size, shuffle, chunk_size, mean=None, std=None, data_min=None, data_max=None):\n",
    "    dataset = MyDataset(data_path_list, chunk_size, data_min=data_min, data_max=data_max)\n",
    "    print(len(dataset))\n",
    "    # standart_scaler_subset = StandardScalerSubset(dataset, list(range(len(dataset))), mean=mean, std=std)\n",
    "    # mean = standart_scaler_subset.mean\n",
    "    # std = standart_scaler_subset.std\n",
    "\n",
    "    dataloader = DataLoader(dataset, batch_size=batch_size, shuffle=shuffle, num_workers=0)\n",
    "    return dataloader, mean, std\n",
    "\n",
    "batch_size = 256\n",
    "chunk_size = 110\n",
    "\n",
    "train_loader, mean, std = load_dataset(train_data_path_list, batch_size=batch_size, chunk_size=chunk_size, shuffle=False, data_min=data_min, data_max=data_max)\n",
    "valid_loader, _, _ = load_dataset(valid_data_path_list, batch_size=batch_size, chunk_size=chunk_size, shuffle=False, mean=mean, std=std, data_min=data_min, data_max=data_max)\n",
    "test_loader, _, _ = load_dataset(test_data_path_list, batch_size=batch_size, chunk_size=chunk_size, shuffle=False, mean=mean, std=std, data_min=data_min, data_max=data_max)"
   ]
  },
  {
   "cell_type": "code",
   "execution_count": 8,
   "metadata": {},
   "outputs": [],
   "source": [
    "def show_data(data):\n",
    "    # mask=data==1.0000000e+04\n",
    "    fig, ax = plt.subplots(figsize=(10,2))\n",
    "    # sns.heatmap(data, cmap=\"jet\", mask=mask, vmax=500 ,vmin=-500)\n",
    "    sns.heatmap(data, cmap=\"jet\")\n",
    "    ax.invert_yaxis()\n",
    "    ax.set(ylabel='rgate_no_1')\n",
    "    ax.spines['right'].set_visible(True)\n",
    "    ax.spines['top'].set_visible(True)\n",
    "    ax.spines['left'].set_visible(True)\n",
    "    ax.spines['bottom'].set_visible(True)\n",
    "    ax.collections[0].colorbar.set_label('Doppler velocity[m/s]')\n",
    "    # ax.set(xticklabels=[])\n",
    "    # ax[0].tick_params(bottom=False)\n",
    "    # idxs = [int(xtick) for xtick in ax.get_xticks()]\n",
    "    # xlabels = [timestamp[idx] for idx in idxs]\n",
    "    # ax.set_xticklabels(xlabels)\n",
    "    ax.set(xlabel='epoch')\n",
    "    # plt.subplots_adjust(hspace=0.08)\n",
    "    plt.show()"
   ]
  },
  {
   "attachments": {},
   "cell_type": "markdown",
   "metadata": {},
   "source": [
    "### data showing"
   ]
  },
  {
   "cell_type": "code",
   "execution_count": 9,
   "metadata": {},
   "outputs": [
    {
     "data": {
      "text/plain": [
       "<Figure size 2500x400 with 0 Axes>"
      ]
     },
     "metadata": {},
     "output_type": "display_data"
    },
    {
     "data": {
      "application/vnd.jupyter.widget-view+json": {
       "model_id": "fad2326773d34dd091340435fab08a84",
       "version_major": 2,
       "version_minor": 0
      },
      "text/plain": [
       "interactive(children=(Dropdown(description='idx', options=(0, 1, 2, 3, 4, 5, 6, 7, 8, 9, 10, 11, 12, 13, 14, 1…"
      ]
     },
     "metadata": {},
     "output_type": "display_data"
    },
    {
     "data": {
      "text/plain": [
       "<function __main__.interact_func(idx)>"
      ]
     },
     "execution_count": 9,
     "metadata": {},
     "output_type": "execute_result"
    }
   ],
   "source": [
    "dataiter = iter(train_loader)\n",
    "datas = next(dataiter)\n",
    "datas = datas.numpy()\n",
    "\n",
    "fig = plt.figure(figsize=(25, 4))\n",
    "\n",
    "def interact_func(idx):\n",
    "    show_data(datas[idx].transpose(1,2,0).reshape(-1, chunk_size))\n",
    "\n",
    "interact(interact_func, idx=range(datas.shape[0]))\n",
    "\n"
   ]
  },
  {
   "cell_type": "code",
   "execution_count": 10,
   "metadata": {},
   "outputs": [],
   "source": [
    "# dataiter = iter(valid_loader)\n",
    "# datas = next(dataiter)\n",
    "# datas = datas.numpy()\n",
    "\n",
    "# fig = plt.figure(figsize=(25, 4))\n",
    "# def interact_func(idx):\n",
    "#     show_data(datas[idx].transpose(1,2,0).reshape(-1, chunk_size))\n",
    "\n",
    "# interact(interact_func, idx=range(datas.shape[0]))"
   ]
  },
  {
   "attachments": {},
   "cell_type": "markdown",
   "metadata": {},
   "source": [
    "### model"
   ]
  },
  {
   "attachments": {},
   "cell_type": "markdown",
   "metadata": {},
   "source": [
    "### UNet"
   ]
  },
  {
   "cell_type": "code",
   "execution_count": 11,
   "metadata": {},
   "outputs": [],
   "source": [
    "class UNet(nn.Module):\n",
    "    def __init__(self, in_channels=1, out_channels=1):\n",
    "        \"\"\"Initializes U-Net.\"\"\"\n",
    "\n",
    "        super(UNet, self).__init__()\n",
    "\n",
    "        # Layers: enc_conv0, enc_conv1, pool1\n",
    "        self._block1 = nn.Sequential(\n",
    "            nn.Conv2d(in_channels, 48, 3, stride=1, padding=1),\n",
    "            nn.ReLU(inplace=True),\n",
    "            nn.Conv2d(48, 48, 3, padding=1),\n",
    "            nn.ReLU(inplace=True),\n",
    "            nn.MaxPool2d(2))\n",
    "\n",
    "        # Layers: enc_conv(i), pool(i); i=2..5\n",
    "        self._block2 = nn.Sequential(\n",
    "            nn.Conv2d(48, 48, 3, stride=1, padding=1),\n",
    "            nn.ReLU(inplace=True),\n",
    "            nn.MaxPool2d(2))\n",
    "\n",
    "        # Layers: enc_conv6, upsample5\n",
    "        self._block3 = nn.Sequential(\n",
    "            nn.Conv2d(48, 48, 3, stride=1, padding=1),\n",
    "            nn.ReLU(inplace=True),\n",
    "            nn.ConvTranspose2d(48, 48, 3, stride=2, padding=1, output_padding=1))\n",
    "            #nn.Upsample(scale_factor=2, mode='nearest'))\n",
    "\n",
    "        # Layers: dec_conv5a, dec_conv5b, upsample4\n",
    "        self._block4 = nn.Sequential(\n",
    "            nn.Conv2d(96, 96, 3, stride=1, padding=1),\n",
    "            nn.ReLU(inplace=True),\n",
    "            nn.Conv2d(96, 96, 3, stride=1, padding=1),\n",
    "            nn.ReLU(inplace=True),\n",
    "            nn.ConvTranspose2d(96, 96, 4, stride=2, padding=1, output_padding=1))\n",
    "            #nn.Upsample(scale_factor=2, mode='nearest'))\n",
    "\n",
    "        # Layers: dec_deconv(i)a, dec_deconv(i)b, upsample(i-1); i=4..2\n",
    "        self._block5 = nn.Sequential(\n",
    "            nn.Conv2d(144, 96, 3, stride=1, padding=1),\n",
    "            nn.ReLU(inplace=True),\n",
    "            nn.Conv2d(96, 96, 3, stride=1, padding=1),\n",
    "            nn.ReLU(inplace=True),\n",
    "            nn.ConvTranspose2d(96, 96, 4, stride=2, padding=1, output_padding=1))\n",
    "            #nn.Upsample(scale_factor=2, mode='nearest'))\n",
    "\n",
    "        # Layers: dec_conv1a, dec_conv1b, dec_conv1c,\n",
    "        self._block6 = nn.Sequential(\n",
    "            nn.Conv2d(96 + in_channels, 64, 3, stride=1, padding=1),\n",
    "            nn.ReLU(inplace=True),\n",
    "            nn.Conv2d(64, 32, 3, stride=1, padding=1),\n",
    "            nn.ReLU(inplace=True),\n",
    "            nn.Conv2d(32, out_channels, 3, stride=1, padding=1),\n",
    "            # nn.LeakyReLU(0.1))\n",
    "            # nn.Sigmoid())\n",
    "            nn.Tanh())\n",
    "        \n",
    "        self._block7 = nn.Sequential(\n",
    "            nn.Conv2d(144, 96, 3, stride=1, padding=1),\n",
    "            nn.ReLU(inplace=True),\n",
    "            nn.Conv2d(96, 96, 3, stride=1, padding=1),\n",
    "            nn.ReLU(inplace=True),\n",
    "            nn.ConvTranspose2d(96, 96, 4, stride=2, padding=1, output_padding=0))\n",
    "        \n",
    "        # Initialize weights\n",
    "        self._init_weights()\n",
    "\n",
    "\n",
    "    def _init_weights(self):\n",
    "        \"\"\"Initializes weights using He et al. (2015).\"\"\"\n",
    "\n",
    "        for m in self.modules():\n",
    "            if isinstance(m, nn.ConvTranspose2d) or isinstance(m, nn.Conv2d):\n",
    "                nn.init.kaiming_normal_(m.weight.data)\n",
    "                m.bias.data.zero_()\n",
    "\n",
    "\n",
    "    def forward(self, x):\n",
    "        \"\"\"Through encoder, then decoder by adding U-skip connections. \"\"\"\n",
    "\n",
    "        # # Encoder\n",
    "        # pool1 = self._block1(x)\n",
    "        # pool2 = self._block2(pool1)\n",
    "        # pool3 = self._block2(pool2)\n",
    "\n",
    "        # # Decoder\n",
    "        # upsample3 = self._block3(pool3)\n",
    "        # concat3 = torch.cat((upsample3, pool2), dim=1)\n",
    "        # upsample2 = self._block4(concat3)\n",
    "        # concat2 = torch.cat((upsample2, pool1), dim=1)\n",
    "        # upsample1 = self._block5(concat2)\n",
    "        # concat1 = torch.cat((upsample1, x), dim=1)\n",
    "\n",
    "        # Encoder\n",
    "        pool1 = self._block1(x)\n",
    "        pool2 = self._block2(pool1)\n",
    "        pool3 = self._block2(pool2)\n",
    "        pool4 = self._block2(pool3)\n",
    "        pool5 = self._block2(pool4)\n",
    "\n",
    "        # Decoder\n",
    "        upsample5 = self._block3(pool5)\n",
    "        concat5 = torch.cat((upsample5, pool4), dim=1)\n",
    "        upsample4 = self._block4(concat5)\n",
    "        concat4 = torch.cat((upsample4, pool3), dim=1)\n",
    "        upsample3 = self._block5(concat4)\n",
    "        concat3 = torch.cat((upsample3, pool2), dim=1)\n",
    "        upsample2 = self._block5(concat3)\n",
    "        concat2 = torch.cat((upsample2, pool1), dim=1)\n",
    "        upsample1 = self._block7(concat2)\n",
    "        concat1 = torch.cat((upsample1, x), dim=1)\n",
    "\n",
    "        # Final activation\n",
    "        return self._block6(concat1)\n"
   ]
  },
  {
   "attachments": {},
   "cell_type": "markdown",
   "metadata": {},
   "source": [
    "### CAE"
   ]
  },
  {
   "cell_type": "code",
   "execution_count": 12,
   "metadata": {},
   "outputs": [],
   "source": [
    "# class ConvAutoencoder(nn.Module):\n",
    "#     def __init__(self):\n",
    "#         super(ConvAutoencoder, self).__init__()\n",
    "#         ## encoder layers ##\n",
    "#         # conv layer (depth from 3 --> 16), 3x3 kernels\n",
    "#         self.conv1 = nn.Conv2d(1, 16, 3, padding=1)  \n",
    "#         # conv layer (depth from 16 --> 4), 3x3 kernels\n",
    "#         self.conv2 = nn.Conv2d(16, 4, 3, padding=1)\n",
    "#         # pooling layer to reduce x-y dims by two; kernel and stride of 2\n",
    "#         self.pool = nn.MaxPool2d(2, 2)\n",
    "        \n",
    "#         ## decoder layers ##\n",
    "#         ## a kernel of 2 and a stride of 2 will increase the spatial dims by 2\n",
    "#         self.t_conv1 = nn.ConvTranspose2d(4, 16, 3, stride=2)\n",
    "#         self.t_conv2 = nn.ConvTranspose2d(16, 1, 2, stride=2)\n",
    "\n",
    "#     def forward(self, x):\n",
    "#         ## encode ##\n",
    "#         # add hidden layers with relu activation function\n",
    "#         # and maxpooling after\n",
    "#         x = F.relu(self.conv1(x))\n",
    "#         x = self.pool(x)\n",
    "#         # add second hidden layer\n",
    "#         x = F.relu(self.conv2(x))\n",
    "#         x = self.pool(x)  # compressed representation\n",
    "        \n",
    "#         ## decode ##\n",
    "#         # add transpose conv layers, with relu activation function\n",
    "#         x = F.relu(self.t_conv1(x))\n",
    "#         # output layer (with sigmoid for scaling from 0 to 1)\n",
    "#         x = torch.sigmoid(self.t_conv2(x))\n",
    "                \n",
    "#         return x"
   ]
  },
  {
   "attachments": {},
   "cell_type": "markdown",
   "metadata": {},
   "source": [
    "### CAE2"
   ]
  },
  {
   "cell_type": "code",
   "execution_count": 13,
   "metadata": {},
   "outputs": [],
   "source": [
    "# from torch.autograd import Variable\n",
    "\n",
    "# class Reshape(nn.Module):\n",
    "#     def __init__(self, *args):\n",
    "#         super(Reshape, self).__init__()\n",
    "#         self.shape = args\n",
    "#     def forward(self,x):\n",
    "#         return x.view(self.shape)\n",
    "\n",
    "# def get_torch_vars(x):\n",
    "#     if torch.cuda.is_available():\n",
    "#         x = x.cuda()\n",
    "#     return Variable(x)"
   ]
  },
  {
   "cell_type": "code",
   "execution_count": 14,
   "metadata": {},
   "outputs": [],
   "source": [
    "# class ConvAutoencoder(nn.Module):\n",
    "#     def __init__(self):\n",
    "#         super(ConvAutoencoder, self).__init__()\n",
    "#         self.encoder = nn.Sequential(\n",
    "#             nn.Conv2d(1, 16, kernel_size=3, stride=2, padding=1), nn.Tanh(),\n",
    "#             nn.Conv2d(16, 32, kernel_size=3, stride=2, padding=1), nn.Tanh(),\n",
    "#             nn.Conv2d(32, 32, kernel_size=3, stride=2, padding=1), nn.Tanh(),\n",
    "#             nn.Flatten(),\n",
    "#             nn.Linear(6272, 1024), nn.Tanh(), #6422528\n",
    "#         )\n",
    "\n",
    "#         self.decoder = nn.Sequential(\n",
    "#             nn.Linear(1024, 6272), nn.Tanh(),\n",
    "#             Reshape(-1, 32, 14, 14),\n",
    "#             nn.ConvTranspose2d(32, 32, kernel_size=4, stride=2, padding=1, output_padding=0), nn.Tanh(),\n",
    "#             nn.ConvTranspose2d(32, 16, kernel_size=4, stride=2, padding=1, output_padding=0), nn.Tanh(),\n",
    "#             nn.ConvTranspose2d(16, 1, kernel_size=4, stride=2, padding=2, output_padding=0), nn.Sigmoid(),\n",
    "#         )\n",
    "\n",
    "#     def forward(self, x):\n",
    "#         z = self.encoder(x)\n",
    "#         x_pred = self.decoder(z)\n",
    "#         return x_pred\n"
   ]
  },
  {
   "cell_type": "code",
   "execution_count": 15,
   "metadata": {},
   "outputs": [],
   "source": [
    "import torch.optim.lr_scheduler as lr_scheduler\n",
    "from lion_pytorch import Lion"
   ]
  },
  {
   "attachments": {},
   "cell_type": "markdown",
   "metadata": {},
   "source": [
    "### traing settings"
   ]
  },
  {
   "cell_type": "code",
   "execution_count": 16,
   "metadata": {},
   "outputs": [],
   "source": [
    "num_range = 110\n",
    "time_len = chunk_size\n",
    "input_size = num_range*time_len\n",
    "\n",
    "# model = ConvAutoencoder().to(device=\"cuda\")\n",
    "model = UNet().to(device=\"cuda\")\n",
    "# model.load_state_dict(torch.load('./model/'))\n",
    "# criterion = nn.L1Loss()\n",
    "criterion = nn.MSELoss()\n",
    "# optimizer = torch.optim.Adam(model.parameters(), lr=0.03)\n",
    "optimizer = Lion(model.parameters(), lr=0.0001)\n",
    "scheduler = lr_scheduler.LinearLR(optimizer, start_factor=1.0, end_factor=0.05, total_iters=100)\n"
   ]
  },
  {
   "cell_type": "code",
   "execution_count": 17,
   "metadata": {},
   "outputs": [],
   "source": [
    "from IPython.display import clear_output"
   ]
  },
  {
   "attachments": {},
   "cell_type": "markdown",
   "metadata": {},
   "source": [
    "### training"
   ]
  },
  {
   "cell_type": "code",
   "execution_count": 18,
   "metadata": {},
   "outputs": [
    {
     "name": "stdout",
     "output_type": "stream",
     "text": [
      "Epoch: 1\tTraining Loss: 4638.887977\tValidation Loss: 37369.396329\tlr: 0.000099\n",
      "Epoch: 2\tTraining Loss: 3846.841666\tValidation Loss: 30986.624349\tlr: 0.000098\n",
      "Epoch: 3\tTraining Loss: 3173.466225\tValidation Loss: 25560.127976\tlr: 0.000097\n",
      "Epoch: 4\tTraining Loss: 2600.560393\tValidation Loss: 20943.359561\tlr: 0.000096\n",
      "Epoch: 5\tTraining Loss: 2115.353679\tValidation Loss: 17033.696212\tlr: 0.000095\n",
      "Epoch: 6\tTraining Loss: 1707.082012\tValidation Loss: 13744.495117\tlr: 0.000094\n",
      "Epoch: 7\tTraining Loss: 1367.834758\tValidation Loss: 11011.828389\tlr: 0.000093\n",
      "Epoch: 8\tTraining Loss: 1089.528010\tValidation Loss: 8770.568483\tlr: 0.000092\n",
      "Epoch: 9\tTraining Loss: 863.494839\tValidation Loss: 6950.704729\tlr: 0.000091\n",
      "Epoch: 10\tTraining Loss: 682.625214\tValidation Loss: 5494.518012\tlr: 0.000091\n",
      "Epoch: 11\tTraining Loss: 538.583910\tValidation Loss: 4335.018268\tlr: 0.000090\n",
      "Epoch: 12\tTraining Loss: 424.545999\tValidation Loss: 3417.170216\tlr: 0.000089\n",
      "Epoch: 13\tTraining Loss: 335.275336\tValidation Loss: 2698.729225\tlr: 0.000088\n",
      "Epoch: 14\tTraining Loss: 265.431890\tValidation Loss: 2136.652572\tlr: 0.000087\n",
      "Epoch: 15\tTraining Loss: 211.155254\tValidation Loss: 1699.895884\tlr: 0.000086\n",
      "Epoch: 16\tTraining Loss: 168.904143\tValidation Loss: 1359.883305\tlr: 0.000085\n",
      "Epoch: 17\tTraining Loss: 136.197535\tValidation Loss: 1096.724543\tlr: 0.000084\n",
      "Epoch: 18\tTraining Loss: 110.815931\tValidation Loss: 892.454065\tlr: 0.000083\n",
      "Epoch: 19\tTraining Loss: 90.998080\tValidation Loss: 732.984411\tlr: 0.000082\n",
      "Epoch: 20\tTraining Loss: 75.611837\tValidation Loss: 609.158394\tlr: 0.000081\n",
      "Epoch: 21\tTraining Loss: 63.569753\tValidation Loss: 512.241973\tlr: 0.000080\n",
      "Epoch: 22\tTraining Loss: 54.050869\tValidation Loss: 435.615337\tlr: 0.000079\n",
      "Epoch: 23\tTraining Loss: 46.633810\tValidation Loss: 375.941281\tlr: 0.000078\n",
      "Epoch: 24\tTraining Loss: 40.808940\tValidation Loss: 329.042875\tlr: 0.000077\n",
      "Epoch: 25\tTraining Loss: 36.141464\tValidation Loss: 291.468366\tlr: 0.000076\n",
      "Epoch: 26\tTraining Loss: 32.376937\tValidation Loss: 261.153441\tlr: 0.000075\n",
      "Epoch: 27\tTraining Loss: 29.396351\tValidation Loss: 237.167279\tlr: 0.000074\n",
      "Epoch: 28\tTraining Loss: 26.986370\tValidation Loss: 217.752459\tlr: 0.000073\n",
      "Epoch: 29\tTraining Loss: 25.019764\tValidation Loss: 201.918862\tlr: 0.000072\n",
      "Epoch: 30\tTraining Loss: 23.403160\tValidation Loss: 188.893796\tlr: 0.000072\n",
      "Epoch: 31\tTraining Loss: 22.060652\tValidation Loss: 178.081008\tlr: 0.000071\n",
      "Epoch: 32\tTraining Loss: 20.930220\tValidation Loss: 168.969713\tlr: 0.000070\n",
      "Epoch: 33\tTraining Loss: 19.987801\tValidation Loss: 161.379811\tlr: 0.000069\n",
      "Epoch: 34\tTraining Loss: 19.191314\tValidation Loss: 154.959240\tlr: 0.000068\n",
      "Epoch: 35\tTraining Loss: 18.513714\tValidation Loss: 149.500766\tlr: 0.000067\n",
      "Epoch: 36\tTraining Loss: 17.926930\tValidation Loss: 144.766697\tlr: 0.000066\n",
      "Epoch: 37\tTraining Loss: 17.413104\tValidation Loss: 140.627729\tlr: 0.000065\n",
      "Epoch: 38\tTraining Loss: 16.961064\tValidation Loss: 136.978831\tlr: 0.000064\n",
      "Epoch: 39\tTraining Loss: 16.558296\tValidation Loss: 133.733831\tlr: 0.000063\n",
      "Epoch: 40\tTraining Loss: 16.198212\tValidation Loss: 130.827168\tlr: 0.000062\n",
      "Epoch: 41\tTraining Loss: 15.876393\tValidation Loss: 128.233261\tlr: 0.000061\n",
      "Epoch: 42\tTraining Loss: 15.578549\tValidation Loss: 125.827166\tlr: 0.000060\n",
      "Epoch: 43\tTraining Loss: 15.296569\tValidation Loss: 123.553554\tlr: 0.000059\n",
      "Epoch: 44\tTraining Loss: 15.035371\tValidation Loss: 121.443400\tlr: 0.000058\n",
      "Epoch: 45\tTraining Loss: 14.793174\tValidation Loss: 119.491202\tlr: 0.000057\n",
      "Epoch: 46\tTraining Loss: 14.563419\tValidation Loss: 117.633309\tlr: 0.000056\n",
      "Epoch: 47\tTraining Loss: 14.339709\tValidation Loss: 115.829560\tlr: 0.000055\n",
      "Epoch: 48\tTraining Loss: 14.126259\tValidation Loss: 114.103997\tlr: 0.000054\n",
      "Epoch: 49\tTraining Loss: 13.920183\tValidation Loss: 112.441780\tlr: 0.000053\n",
      "Epoch: 50\tTraining Loss: 13.720381\tValidation Loss: 110.826085\tlr: 0.000053\n",
      "Epoch: 51\tTraining Loss: 13.525283\tValidation Loss: 109.252864\tlr: 0.000052\n",
      "Epoch: 52\tTraining Loss: 13.337217\tValidation Loss: 107.731934\tlr: 0.000051\n",
      "Epoch: 53\tTraining Loss: 13.152586\tValidation Loss: 106.242819\tlr: 0.000050\n",
      "Epoch: 54\tTraining Loss: 12.973305\tValidation Loss: 104.792785\tlr: 0.000049\n",
      "Epoch: 55\tTraining Loss: 12.797995\tValidation Loss: 103.379179\tlr: 0.000048\n",
      "Epoch: 56\tTraining Loss: 12.627214\tValidation Loss: 101.997724\tlr: 0.000047\n",
      "Epoch: 57\tTraining Loss: 12.459892\tValidation Loss: 100.648466\tlr: 0.000046\n",
      "Epoch: 58\tTraining Loss: 12.296897\tValidation Loss: 99.329936\tlr: 0.000045\n",
      "Epoch: 59\tTraining Loss: 12.136012\tValidation Loss: 98.032349\tlr: 0.000044\n",
      "Epoch: 60\tTraining Loss: 11.978692\tValidation Loss: 96.760012\tlr: 0.000043\n",
      "Epoch: 61\tTraining Loss: 11.824732\tValidation Loss: 95.518093\tlr: 0.000042\n",
      "Epoch: 62\tTraining Loss: 11.672630\tValidation Loss: 94.287912\tlr: 0.000041\n",
      "Epoch: 63\tTraining Loss: 11.523241\tValidation Loss: 93.082831\tlr: 0.000040\n",
      "Epoch: 64\tTraining Loss: 11.376407\tValidation Loss: 91.895233\tlr: 0.000039\n",
      "Epoch: 65\tTraining Loss: 11.232070\tValidation Loss: 90.731049\tlr: 0.000038\n",
      "Epoch: 66\tTraining Loss: 11.089569\tValidation Loss: 89.578292\tlr: 0.000037\n",
      "Epoch: 67\tTraining Loss: 10.949490\tValidation Loss: 88.448533\tlr: 0.000036\n",
      "Epoch: 68\tTraining Loss: 10.812564\tValidation Loss: 87.340974\tlr: 0.000035\n",
      "Epoch: 69\tTraining Loss: 10.676361\tValidation Loss: 86.242210\tlr: 0.000034\n",
      "Epoch: 70\tTraining Loss: 10.542523\tValidation Loss: 85.159762\tlr: 0.000034\n",
      "Epoch: 71\tTraining Loss: 10.411267\tValidation Loss: 84.100967\tlr: 0.000033\n",
      "Epoch: 72\tTraining Loss: 10.281775\tValidation Loss: 83.053663\tlr: 0.000032\n",
      "Epoch: 73\tTraining Loss: 10.154170\tValidation Loss: 82.024229\tlr: 0.000031\n",
      "Epoch: 74\tTraining Loss: 10.029001\tValidation Loss: 81.012018\tlr: 0.000030\n",
      "Epoch: 75\tTraining Loss: 9.905411\tValidation Loss: 80.014815\tlr: 0.000029\n",
      "Epoch: 76\tTraining Loss: 9.783908\tValidation Loss: 79.032362\tlr: 0.000028\n",
      "Epoch: 77\tTraining Loss: 9.664275\tValidation Loss: 78.067082\tlr: 0.000027\n",
      "Epoch: 78\tTraining Loss: 9.546372\tValidation Loss: 77.113692\tlr: 0.000026\n",
      "Epoch: 79\tTraining Loss: 9.430436\tValidation Loss: 76.178250\tlr: 0.000025\n",
      "Epoch: 80\tTraining Loss: 9.316363\tValidation Loss: 75.255872\tlr: 0.000024\n",
      "Epoch: 81\tTraining Loss: 9.203740\tValidation Loss: 74.347102\tlr: 0.000023\n",
      "Epoch: 82\tTraining Loss: 9.093661\tValidation Loss: 73.457196\tlr: 0.000022\n",
      "Epoch: 83\tTraining Loss: 8.985490\tValidation Loss: 72.584249\tlr: 0.000021\n",
      "Epoch: 84\tTraining Loss: 8.879012\tValidation Loss: 71.723419\tlr: 0.000020\n",
      "Epoch: 85\tTraining Loss: 8.774140\tValidation Loss: 70.877115\tlr: 0.000019\n",
      "Epoch: 86\tTraining Loss: 8.671048\tValidation Loss: 70.043656\tlr: 0.000018\n",
      "Epoch: 87\tTraining Loss: 8.569568\tValidation Loss: 69.224678\tlr: 0.000017\n",
      "Epoch: 88\tTraining Loss: 8.469817\tValidation Loss: 68.418307\tlr: 0.000016\n",
      "Epoch: 89\tTraining Loss: 8.371638\tValidation Loss: 67.625947\tlr: 0.000015\n",
      "Epoch: 90\tTraining Loss: 8.275296\tValidation Loss: 66.847158\tlr: 0.000015\n",
      "Epoch: 91\tTraining Loss: 8.180375\tValidation Loss: 66.081012\tlr: 0.000014\n",
      "Epoch: 92\tTraining Loss: 8.087329\tValidation Loss: 65.328996\tlr: 0.000013\n",
      "Epoch: 93\tTraining Loss: 7.995887\tValidation Loss: 64.590873\tlr: 0.000012\n",
      "Epoch: 94\tTraining Loss: 7.906030\tValidation Loss: 63.864659\tlr: 0.000011\n",
      "Epoch: 95\tTraining Loss: 7.817748\tValidation Loss: 63.151964\tlr: 0.000010\n",
      "Epoch: 96\tTraining Loss: 7.731221\tValidation Loss: 62.452798\tlr: 0.000009\n",
      "Epoch: 97\tTraining Loss: 7.646202\tValidation Loss: 61.766373\tlr: 0.000008\n",
      "Epoch: 98\tTraining Loss: 7.562819\tValidation Loss: 61.092652\tlr: 0.000007\n",
      "Epoch: 99\tTraining Loss: 7.480988\tValidation Loss: 60.431902\tlr: 0.000006\n",
      "Epoch: 100\tTraining Loss: 7.400774\tValidation Loss: 59.783874\tlr: 0.000005\n"
     ]
    }
   ],
   "source": [
    "# number of epochs to train the model\n",
    "n_epochs = 100\n",
    "train_losses = []\n",
    "valid_losses = []\n",
    "alpha = 1 # 正則化パラメータ\n",
    "\n",
    "def calc_li_loss(model, loss):\n",
    "    # パラメータのL1ノルムを損失関数に足す\n",
    "    l1 = torch.tensor(0., requires_grad=True)\n",
    "    for w in model.parameters():\n",
    "        l1 = l1 + torch.norm(w, 1)\n",
    "    l1_loss = loss + alpha*l1\n",
    "    return l1_loss\n",
    "\n",
    "\n",
    "for epoch in range(1, n_epochs+1):\n",
    "    train_batch_loss = 0.0\n",
    "    valid_batch_loss = 0.0\n",
    "    \n",
    "    for train_batch, valid_batch in zip(train_loader, valid_loader):\n",
    "        model.train()\n",
    "        data = train_batch.to(device=\"cuda\")\n",
    "        optimizer.zero_grad()\n",
    "        outputs = model(data)\n",
    "\n",
    "        train_loss = criterion(outputs, data)\n",
    "        l1_train_loss = calc_li_loss(model, train_loss)\n",
    "        l1_train_loss.backward()\n",
    "\n",
    "        optimizer.step()\n",
    "        train_batch_loss += l1_train_loss.item()\n",
    "\n",
    "        model.eval()\n",
    "        data = valid_batch.to(device=\"cuda\")\n",
    "        outputs = model(data)\n",
    "        valid_loss = criterion(outputs, data)\n",
    "        l1_valid_loss = calc_li_loss(model, valid_loss)\n",
    "        valid_batch_loss += l1_valid_loss.item()\n",
    "            \n",
    "    scheduler.step()\n",
    "\n",
    "    train_loss_avg = train_batch_loss/len(train_loader)\n",
    "    valid_loss_avg = valid_batch_loss/len(valid_loader)\n",
    "    train_losses.append(train_loss_avg)\n",
    "    valid_losses.append(valid_loss_avg)\n",
    "\n",
    "    # clear_output(wait=True)\n",
    "    print(f'Epoch: {epoch}\\tTraining Loss: {train_loss_avg:.6f}\\tValidation Loss: {valid_loss_avg:.6f}\\tlr: {optimizer.param_groups[0][\"lr\"]:.6f}')\n",
    "\n",
    "    if epoch % 100 == 0:\n",
    "        torch.save(model.state_dict(), f'./model/epoch_{epoch}.pth')\n",
    "\n",
    "        plt.plot(train_losses, label='Training loss')\n",
    "        plt.savefig(f'./model/train_loss_epoch_{epoch}.png')\n",
    "        plt.close()\n",
    "\n",
    "        plt.plot(valid_losses, label='Validation loss')\n",
    "        plt.savefig(f'./model/valid_loss_epoch_{epoch}.png')\n",
    "        plt.close()\n",
    "\n",
    "        plt.plot(train_losses, label='Training loss')\n",
    "        plt.plot(valid_losses, label='Validation loss')\n",
    "        plt.legend(frameon=False)\n",
    "        plt.savefig(f'./model/epoch_{epoch}.png')\n",
    "        plt.close()"
   ]
  },
  {
   "cell_type": "code",
   "execution_count": 19,
   "metadata": {},
   "outputs": [
    {
     "data": {
      "image/png": "[encoded data removed]",
      "text/plain": [
       "<Figure size 640x480 with 1 Axes>"
      ]
     },
     "metadata": {},
     "output_type": "display_data"
    }
   ],
   "source": [
    "# Plotting the training loss\n",
    "plt.plot(range(1, n_epochs+1), train_losses, label='Train')\n",
    "plt.plot(range(1, n_epochs+1), valid_losses, label='Valid')\n",
    "plt.xlabel(\"Number of epochs\")\n",
    "plt.ylabel(\"Loss\")\n",
    "plt.legend()\n",
    "plt.show()"
   ]
  },
  {
   "cell_type": "code",
   "execution_count": 20,
   "metadata": {},
   "outputs": [
    {
     "name": "stdout",
     "output_type": "stream",
     "text": [
      "Test loss: 0.042494\n"
     ]
    }
   ],
   "source": [
    "test_losses = 0\n",
    "for test_batch in test_loader:\n",
    "    model.eval()\n",
    "    data = test_batch.to(device=\"cuda\")\n",
    "    outputs = model(data)\n",
    "    test_loss = criterion(outputs, data)\n",
    "    test_losses += test_loss.item()\n",
    "print(f\"Test loss: {test_losses/len(test_loader):.6f}\")"
   ]
  },
  {
   "attachments": {},
   "cell_type": "markdown",
   "metadata": {},
   "source": [
    "### training result"
   ]
  },
  {
   "cell_type": "code",
   "execution_count": 21,
   "metadata": {},
   "outputs": [
    {
     "data": {
      "text/plain": [
       "<Figure size 2500x400 with 0 Axes>"
      ]
     },
     "metadata": {},
     "output_type": "display_data"
    },
    {
     "data": {
      "application/vnd.jupyter.widget-view+json": {
       "model_id": "8994e0ca858d44b0a2f901dc6a42cd49",
       "version_major": 2,
       "version_minor": 0
      },
      "text/plain": [
       "interactive(children=(Dropdown(description='idx', options=(0, 1, 2, 3, 4, 5, 6, 7, 8, 9, 10, 11, 12, 13, 14, 1…"
      ]
     },
     "metadata": {},
     "output_type": "display_data"
    },
    {
     "data": {
      "text/plain": [
       "<function __main__.interact_func(idx)>"
      ]
     },
     "execution_count": 21,
     "metadata": {},
     "output_type": "execute_result"
    }
   ],
   "source": [
    "dataiter = iter(train_loader)\n",
    "datas = next(dataiter)\n",
    "\n",
    "model.eval()\n",
    "data = datas.to(device=\"cuda\")\n",
    "outputs = model(data)\n",
    "\n",
    "datas = datas.cpu().detach().numpy()\n",
    "outputs = outputs.cpu().detach().numpy()\n",
    "\n",
    "\n",
    "fig = plt.figure(figsize=(25, 4))\n",
    "def interact_func(idx):\n",
    "    show_data(datas[idx].transpose(1,2,0).reshape(-1, chunk_size))\n",
    "    show_data(outputs[idx].transpose(1,2,0).reshape(-1, chunk_size))\n",
    "\n",
    "interact(interact_func, idx=range(datas.shape[0]))"
   ]
  },
  {
   "attachments": {},
   "cell_type": "markdown",
   "metadata": {},
   "source": [
    "### test result"
   ]
  },
  {
   "cell_type": "code",
   "execution_count": 22,
   "metadata": {},
   "outputs": [
    {
     "data": {
      "text/plain": [
       "<Figure size 2500x400 with 0 Axes>"
      ]
     },
     "metadata": {},
     "output_type": "display_data"
    },
    {
     "data": {
      "application/vnd.jupyter.widget-view+json": {
       "model_id": "4c6c68fe0da5402f9306a2e476fe1a3e",
       "version_major": 2,
       "version_minor": 0
      },
      "text/plain": [
       "interactive(children=(Dropdown(description='idx', options=(0, 1, 2, 3, 4, 5, 6, 7, 8, 9, 10, 11, 12, 13, 14, 1…"
      ]
     },
     "metadata": {},
     "output_type": "display_data"
    },
    {
     "data": {
      "text/plain": [
       "<function __main__.interact_func(idx)>"
      ]
     },
     "execution_count": 22,
     "metadata": {},
     "output_type": "execute_result"
    }
   ],
   "source": [
    "dataiter = iter(test_loader)\n",
    "datas = next(dataiter)\n",
    "\n",
    "model.eval()\n",
    "data = datas.to(device=\"cuda\")\n",
    "outputs = model(data)\n",
    "\n",
    "datas = datas.cpu().detach().numpy()\n",
    "outputs = outputs.cpu().detach().numpy()\n",
    "\n",
    "\n",
    "fig = plt.figure(figsize=(25, 4))\n",
    "\n",
    "def interact_func(idx):\n",
    "    show_data(datas[idx].transpose(1,2,0).reshape(-1, chunk_size))\n",
    "    show_data(outputs[idx].transpose(1,2,0).reshape(-1, chunk_size))\n",
    "\n",
    "interact(interact_func, idx=range(datas.shape[0]))\n",
    "\n",
    "# for idx in np.arange(5):\n",
    "#     show_data(datas[idx].transpose(1,2,0).reshape(-1,110))\n",
    "#     show_data(outputs[idx].transpose(1,2,0).reshape(-1,110))"
   ]
  },
  {
   "cell_type": "code",
   "execution_count": 23,
   "metadata": {},
   "outputs": [
    {
     "data": {
      "text/plain": [
       "array([1.9000072e-06, 1.9000072e-06, 1.9000072e-06, ..., 1.9000072e-06,\n",
       "       1.9000072e-06, 1.9000072e-06], dtype=float32)"
      ]
     },
     "execution_count": 23,
     "metadata": {},
     "output_type": "execute_result"
    }
   ],
   "source": [
    "outputs[outputs!=0]"
   ]
  },
  {
   "cell_type": "code",
   "execution_count": null,
   "metadata": {},
   "outputs": [],
   "source": []
  }
 ],
 "metadata": {
  "kernelspec": {
   "display_name": "noise_env",
   "language": "python",
   "name": "python3"
  },
  "language_info": {
   "codemirror_mode": {
    "name": "ipython",
    "version": 3
   },
   "file_extension": ".py",
   "mimetype": "text/x-python",
   "name": "python",
   "nbconvert_exporter": "python",
   "pygments_lexer": "ipython3",
   "version": "3.8.10"
  },
  "orig_nbformat": 4
 },
 "nbformat": 4,
 "nbformat_minor": 2
}
